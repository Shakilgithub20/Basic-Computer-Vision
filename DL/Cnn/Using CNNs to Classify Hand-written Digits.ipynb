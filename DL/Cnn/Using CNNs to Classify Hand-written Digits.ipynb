{
 "cells": [
  {
   "cell_type": "code",
   "execution_count": 1,
   "id": "24dc1b98-5749-4791-9d5d-16117aa3536d",
   "metadata": {},
   "outputs": [
    {
     "name": "stderr",
     "output_type": "stream",
     "text": [
      "2022-03-10 06:52:50.188978: W tensorflow/stream_executor/platform/default/dso_loader.cc:64] Could not load dynamic library 'libcudart.so.11.0'; dlerror: libcudart.so.11.0: cannot open shared object file: No such file or directory\n",
      "2022-03-10 06:52:50.189013: I tensorflow/stream_executor/cuda/cudart_stub.cc:29] Ignore above cudart dlerror if you do not have a GPU set up on your machine.\n"
     ]
    }
   ],
   "source": [
    "# keras imports for the dataset and building our neural network\n",
    "from keras.datasets import mnist\n",
    "from keras.models import Sequential\n",
    "from keras.layers import Dense, Dropout, Conv2D, MaxPool2D, Flatten\n",
    "from keras.utils import np_utils\n",
    "from sklearn.metrics import accuracy_score"
   ]
  },
  {
   "cell_type": "code",
   "execution_count": 2,
   "id": "619de9e1-8dab-4c64-b1fe-44a5f12f05a2",
   "metadata": {},
   "outputs": [],
   "source": [
    "# loading the dataset\n",
    "(X_train, y_train), (X_test, y_test) = mnist.load_data()"
   ]
  },
  {
   "cell_type": "code",
   "execution_count": 3,
   "id": "6260d64f-5977-4ec5-b987-5c092c89c324",
   "metadata": {},
   "outputs": [],
   "source": [
    "# building the input vector from the 28x28 pixels\n",
    "X_train = X_train.reshape(X_train.shape[0], 28, 28, 1)\n",
    "X_test = X_test.reshape(X_test.shape[0], 28, 28, 1)\n",
    "X_train = X_train.astype('float32')\n",
    "X_test = X_test.astype('float32')"
   ]
  },
  {
   "cell_type": "code",
   "execution_count": 4,
   "id": "5e6b4e28-74e2-41a2-933a-6627d613f0d1",
   "metadata": {},
   "outputs": [],
   "source": [
    "# normalizing the data to help with the training\n",
    "X_train /= 255\n",
    "X_test /= 255"
   ]
  },
  {
   "cell_type": "code",
   "execution_count": 5,
   "id": "f90d372f-27f2-420f-af2e-cb2df5c2fb05",
   "metadata": {},
   "outputs": [
    {
     "name": "stdout",
     "output_type": "stream",
     "text": [
      "Shape before one-hot encoding:  (60000,)\n",
      "Shape after one-hot encoding:  (60000, 10)\n"
     ]
    }
   ],
   "source": [
    "# one-hot encoding using keras' numpy-related utilities\n",
    "n_classes = 10\n",
    "print(\"Shape before one-hot encoding: \", y_train.shape)\n",
    "Y_train = np_utils.to_categorical(y_train, n_classes)\n",
    "Y_test = np_utils.to_categorical(y_test, n_classes)\n",
    "print(\"Shape after one-hot encoding: \", Y_train.shape)"
   ]
  },
  {
   "cell_type": "code",
   "execution_count": null,
   "id": "f14fd1b8-b3ac-47fe-a35b-104b0645530d",
   "metadata": {},
   "outputs": [
    {
     "name": "stderr",
     "output_type": "stream",
     "text": [
      "2022-03-10 06:53:06.529564: W tensorflow/stream_executor/platform/default/dso_loader.cc:64] Could not load dynamic library 'libcuda.so.1'; dlerror: libcuda.so.1: cannot open shared object file: No such file or directory\n",
      "2022-03-10 06:53:06.529601: W tensorflow/stream_executor/cuda/cuda_driver.cc:269] failed call to cuInit: UNKNOWN ERROR (303)\n",
      "2022-03-10 06:53:06.529631: I tensorflow/stream_executor/cuda/cuda_diagnostics.cc:156] kernel driver does not appear to be running on this host (default): /proc/driver/nvidia/version does not exist\n",
      "2022-03-10 06:53:06.529895: I tensorflow/core/platform/cpu_feature_guard.cc:151] This TensorFlow binary is optimized with oneAPI Deep Neural Network Library (oneDNN) to use the following CPU instructions in performance-critical operations:  AVX2 AVX512F FMA\n",
      "To enable them in other operations, rebuild TensorFlow with the appropriate compiler flags.\n"
     ]
    },
    {
     "name": "stdout",
     "output_type": "stream",
     "text": [
      "Epoch 1/20\n",
      "469/469 [==============================] - 19s 39ms/step - loss: 0.1941 - accuracy: 0.9442 - val_loss: 0.0802 - val_accuracy: 0.9735\n",
      "Epoch 2/20\n",
      "469/469 [==============================] - 18s 38ms/step - loss: 0.0599 - accuracy: 0.9823 - val_loss: 0.0543 - val_accuracy: 0.9828\n",
      "Epoch 3/20\n",
      "469/469 [==============================] - 18s 39ms/step - loss: 0.0362 - accuracy: 0.9894 - val_loss: 0.0528 - val_accuracy: 0.9822\n",
      "Epoch 4/20\n",
      "469/469 [==============================] - 18s 39ms/step - loss: 0.0234 - accuracy: 0.9929 - val_loss: 0.0477 - val_accuracy: 0.9845\n",
      "Epoch 5/20\n",
      "469/469 [==============================] - 18s 38ms/step - loss: 0.0159 - accuracy: 0.9954 - val_loss: 0.0544 - val_accuracy: 0.9827\n",
      "Epoch 6/20\n",
      "469/469 [==============================] - 18s 38ms/step - loss: 0.0094 - accuracy: 0.9972 - val_loss: 0.0565 - val_accuracy: 0.9833\n",
      "Epoch 7/20\n",
      "469/469 [==============================] - 18s 38ms/step - loss: 0.0077 - accuracy: 0.9977 - val_loss: 0.0522 - val_accuracy: 0.9854\n",
      "Epoch 8/20\n",
      "469/469 [==============================] - 18s 38ms/step - loss: 0.0039 - accuracy: 0.9990 - val_loss: 0.0533 - val_accuracy: 0.9849\n",
      "Epoch 9/20\n",
      "469/469 [==============================] - 18s 38ms/step - loss: 0.0035 - accuracy: 0.9991 - val_loss: 0.0575 - val_accuracy: 0.9849\n",
      "Epoch 10/20\n",
      "469/469 [==============================] - 18s 39ms/step - loss: 0.0071 - accuracy: 0.9975 - val_loss: 0.0774 - val_accuracy: 0.9819\n",
      "Epoch 11/20\n",
      "469/469 [==============================] - 18s 38ms/step - loss: 0.0038 - accuracy: 0.9989 - val_loss: 0.0706 - val_accuracy: 0.9818\n",
      "Epoch 12/20\n",
      "469/469 [==============================] - 18s 38ms/step - loss: 0.0029 - accuracy: 0.9992 - val_loss: 0.0713 - val_accuracy: 0.9845\n",
      "Epoch 13/20\n",
      "469/469 [==============================] - 18s 39ms/step - loss: 0.0031 - accuracy: 0.9990 - val_loss: 0.0665 - val_accuracy: 0.9845\n",
      "Epoch 14/20\n",
      "469/469 [==============================] - 18s 39ms/step - loss: 0.0018 - accuracy: 0.9995 - val_loss: 0.0701 - val_accuracy: 0.9849\n",
      "Epoch 15/20\n",
      "469/469 [==============================] - 18s 38ms/step - loss: 0.0035 - accuracy: 0.9991 - val_loss: 0.0715 - val_accuracy: 0.9837\n",
      "Epoch 16/20\n",
      "469/469 [==============================] - 18s 39ms/step - loss: 0.0042 - accuracy: 0.9987 - val_loss: 0.0628 - val_accuracy: 0.9847\n",
      "Epoch 17/20\n",
      "469/469 [==============================] - 18s 39ms/step - loss: 0.0026 - accuracy: 0.9992 - val_loss: 0.0748 - val_accuracy: 0.9841\n",
      "Epoch 18/20\n",
      "469/469 [==============================] - 18s 39ms/step - loss: 0.0012 - accuracy: 0.9998 - val_loss: 0.0763 - val_accuracy: 0.9848\n",
      "Epoch 19/20\n",
      "469/469 [==============================] - 18s 38ms/step - loss: 0.0011 - accuracy: 0.9997 - val_loss: 0.0757 - val_accuracy: 0.9838\n",
      "Epoch 20/20\n",
      "129/469 [=======>......................] - ETA: 12s - loss: 4.2144e-04 - accuracy: 0.9999"
     ]
    }
   ],
   "source": [
    "# building CNN model:\n",
    "cnn = Sequential()\n",
    "cnn.add(Conv2D(25, kernel_size=(3,3), strides=(1,1), padding='valid', activation='relu', input_shape=(28,28,1)))\n",
    "cnn.add(MaxPool2D(pool_size=(1,1)))\n",
    "cnn.add(Flatten())\n",
    "# hidden layer\n",
    "cnn.add(Dense(100, activation='relu'))\n",
    "# output layer\n",
    "cnn.add(Dense(10, activation='softmax'))\n",
    "\n",
    "cnn.compile(loss='categorical_crossentropy', metrics=['accuracy'], optimizer='adam')\n",
    "cnn.fit(X_train, Y_train, batch_size=128, epochs=20, validation_data=(X_test, Y_test))"
   ]
  },
  {
   "cell_type": "code",
   "execution_count": null,
   "id": "1bec115e-9220-4250-8ff6-deb9ffaa83ae",
   "metadata": {},
   "outputs": [],
   "source": []
  }
 ],
 "metadata": {
  "kernelspec": {
   "display_name": "default:Python",
   "language": "python",
   "name": "conda-env-default-py"
  },
  "language_info": {
   "codemirror_mode": {
    "name": "ipython",
    "version": 3
   },
   "file_extension": ".py",
   "mimetype": "text/x-python",
   "name": "python",
   "nbconvert_exporter": "python",
   "pygments_lexer": "ipython3",
   "version": "3.9.7"
  }
 },
 "nbformat": 4,
 "nbformat_minor": 5
}
